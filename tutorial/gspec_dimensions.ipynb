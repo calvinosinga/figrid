{
 "cells": [
  {
   "cell_type": "code",
   "execution_count": 1,
   "id": "f9d530d4",
   "metadata": {},
   "outputs": [],
   "source": [
    "import matplotlib.gridspec as gspec\n",
    "import numpy as np\n",
    "import matplotlib.pyplot as plt\n",
    "import site\n",
    "site.load"
   ]
  },
  {
   "cell_type": "code",
   "execution_count": 32,
   "id": "3015c58e",
   "metadata": {},
   "outputs": [
    {
     "data": {
      "image/png": "[encoded data removed]",
      "text/plain": [
       "<Figure size 576x504 with 6 Axes>"
      ]
     },
     "metadata": {
      "needs_background": "light"
     },
     "output_type": "display_data"
    }
   ],
   "source": [
    "panel_length = 2\n",
    "nrows = 2\n",
    "ncols = 3\n",
    "xborder = [0.5, 0.5]\n",
    "yborder = [0.5, 0.5]\n",
    "panel_bt = [1, 1]\n",
    "width_ratios = np.array([1, 1, 0.1]) * panel_length\n",
    "height_ratios = np.array([1, 1]) * panel_length\n",
    "figwidth = np.sum(width_ratios) + panel_bt[0] * np.mean(width_ratios) * (ncols - 1) + \\\n",
    "        np.sum(xborder) * panel_length\n",
    "figheight = np.sum(height_ratios) + panel_bt[1] * np.mean(height_ratios) * (nrows - 1) + \\\n",
    "        yborder[0] + yborder[1]\n",
    "fig = plt.figure(figsize=(figwidth, figheight))\n",
    "gs = gspec.GridSpec(nrows, ncols, left= xborder[0]/figwidth, right=1-xborder[1]/figwidth,\n",
    "                top=1-yborder[1]/figheight, bottom=yborder[0]/figheight,\n",
    "                wspace=panel_bt[0]/panel_length, hspace=panel_bt[1]/panel_length,\n",
    "                height_ratios = height_ratios, width_ratios = width_ratios)\n",
    "axes = np.empty((nrows, ncols), dtype = object)\n",
    "\n",
    "for i in range(nrows):\n",
    "    for j in range(ncols):\n",
    "        idx = (i, j)\n",
    "\n",
    "        axis = fig.add_subplot(gs[idx])\n",
    "        axes[idx] = axis"
   ]
  },
  {
   "cell_type": "code",
   "execution_count": 33,
   "id": "1e9ca682",
   "metadata": {},
   "outputs": [],
   "source": [
    "def pgs():\n",
    "    sp = gs.get_subplot_params()\n",
    "    params = {'wspace':sp.wspace, 'hspace':sp.hspace, 'left':sp.left,\n",
    "             'right':sp.right, 'top':sp.top, 'bottom':sp.bottom}\n",
    "    print(params)\n",
    "    return"
   ]
  },
  {
   "cell_type": "code",
   "execution_count": 34,
   "id": "4e425dd7",
   "metadata": {},
   "outputs": [
    {
     "name": "stdout",
     "output_type": "stream",
     "text": [
      "{'wspace': 0.5, 'hspace': 0.5, 'left': 0.0625, 'right': 0.9375, 'top': 0.9285714285714286, 'bottom': 0.07142857142857142}\n"
     ]
    }
   ],
   "source": [
    "pgs()"
   ]
  },
  {
   "cell_type": "code",
   "execution_count": 31,
   "id": "748b2667",
   "metadata": {},
   "outputs": [
    {
     "name": "stdout",
     "output_type": "stream",
     "text": [
      "2.214285714285714 2.0000000000000004\n"
     ]
    }
   ],
   "source": [
    "bbox = axes[0,0].get_window_extent().transformed(fig.dpi_scale_trans.inverted())\n",
    "print(bbox.width, bbox.height)"
   ]
  },
  {
   "cell_type": "code",
   "execution_count": 21,
   "id": "2d59b678",
   "metadata": {},
   "outputs": [
    {
     "data": {
      "text/plain": [
       "array([5.5, 4. ])"
      ]
     },
     "execution_count": 21,
     "metadata": {},
     "output_type": "execute_result"
    }
   ],
   "source": [
    "fig.get_size_inches()"
   ]
  },
  {
   "cell_type": "code",
   "execution_count": 39,
   "id": "145f27e5",
   "metadata": {},
   "outputs": [
    {
     "data": {
      "text/plain": [
       "(0, 2)"
      ]
     },
     "execution_count": 39,
     "metadata": {},
     "output_type": "execute_result"
    }
   ],
   "source": [
    "flatax = axes.flatten()\n",
    "np.unravel_index(2, axes.shape)"
   ]
  },
  {
   "cell_type": "code",
   "execution_count": 40,
   "id": "3ba68ecf",
   "metadata": {},
   "outputs": [],
   "source": [
    "x = np.ones((5,5))\n",
    "x[2:, 3:5] = 2"
   ]
  },
  {
   "cell_type": "code",
   "execution_count": 46,
   "id": "a4572853",
   "metadata": {},
   "outputs": [],
   "source": [
    "unq, idx, inv = np.unique(x, return_index = True, return_inverse = True)"
   ]
  },
  {
   "cell_type": "code",
   "execution_count": 47,
   "id": "7d854362",
   "metadata": {},
   "outputs": [
    {
     "data": {
      "text/plain": [
       "array([ 0, 13])"
      ]
     },
     "execution_count": 47,
     "metadata": {},
     "output_type": "execute_result"
    }
   ],
   "source": [
    "idx"
   ]
  },
  {
   "cell_type": "code",
   "execution_count": 108,
   "id": "55032310",
   "metadata": {},
   "outputs": [],
   "source": [
    "def _makeFig(nrows, ncols, panel_length, wspace,\n",
    "        hspace, xborder, yborder, height_ratios = None, \n",
    "        width_ratios = None, dpi = 100):\n",
    "    \"\"\"\n",
    "    Make a gridspec and corresponding figure according to the\n",
    "    given specifications.\n",
    "\n",
    "    Args:\n",
    "        nrows (int): number of rows\n",
    "        ncols (int): number of columns\n",
    "        panel_length (float): size of panel in inches.\n",
    "            Used to scale the other inputs.\n",
    "        wspace (float, np.array): the width of the padding\n",
    "            between panels, as a fraction of panel_length.\n",
    "            If a float, applies that value to all padding.\n",
    "            An array must have dimensions (ncols - 1).\n",
    "        hspace (float, np.array): the height of the padding\n",
    "            between panels, as a fraction of panel_length.\n",
    "            If a float, applies that value to all padding.\n",
    "            An array must have dimensions (nrows - 1).\n",
    "        xborder (float, np.array): the size of the padding\n",
    "            on the left and right borders of the figure.\n",
    "            As a fraction of panel_length. If given a float,\n",
    "            applies that value to both borders.\n",
    "        yborder (float, np.array): the size of the padding\n",
    "            on the top and bottom borders of the figure.\n",
    "            As a fraction of panel_length. If given a float,\n",
    "            applies that value to both borders.\n",
    "        height_ratios (list, np.array, optional): the \n",
    "            respective heights of each the panels in the \n",
    "            corresponding rows. Must have dimensions (nrows). \n",
    "            As a fraction of panel_length. \n",
    "        width_ratios (list, np.array, optional): the respective heights\n",
    "            of each the panels in the corresponding rows. Must\n",
    "            have dimensions (nrows). As a fraction of \n",
    "            panel_length. \n",
    "        dpi (float, optional): dots per inch, the resolution of the\n",
    "            figure.\n",
    "    \"\"\"\n",
    "\n",
    "    # default behavior for borders\n",
    "    if isinstance(xborder, float) or isinstance(xborder, int):\n",
    "        xborder = np.array([xborder, xborder])\n",
    "    if isinstance(yborder, float) or isinstance(yborder, int):\n",
    "        yborder = np.array([yborder, yborder])\n",
    "\n",
    "    # default behavior for padding\n",
    "    paddim = [max(1, ncols - 1), max(1, nrows - 1)]\n",
    "    if isinstance(wspace, float) or isinstance(wspace, int):\n",
    "        wspace = np.ones(paddim[0]) * wspace\n",
    "    if isinstance(hspace, float) or isinstance(hspace, int):\n",
    "        hspace = np.ones(paddim[1]) * hspace\n",
    "\n",
    "    # default behavior for ratios\n",
    "    if height_ratios is None:\n",
    "        height_ratios = np.ones(nrows)\n",
    "    else:\n",
    "        # renormalize\n",
    "        maxval = np.max(height_ratios)\n",
    "        height_ratios /= maxval\n",
    "\n",
    "    if width_ratios is None:\n",
    "        width_ratios = np.ones(ncols)\n",
    "    else:\n",
    "        #renormalize\n",
    "        maxval = np.max(width_ratios)\n",
    "        width_ratios /= maxval\n",
    "\n",
    "    #TODO handle input errors with panelbt, height/width ratios\n",
    "\n",
    "    # creating Figure object\n",
    "\n",
    "    # convert everything into units of inches\n",
    "    width_ratios *= panel_length; height_ratios *= panel_length\n",
    "    xborder *= panel_length; yborder *= panel_length\n",
    "    wspace *= panel_length; hspace *= panel_length\n",
    "    \n",
    "    total_widths = np.sum(width_ratios)\n",
    "    total_wspace = np.sum(wspace)\n",
    "    wborder_space = np.sum(xborder)\n",
    "\n",
    "    total_heights = np.sum(height_ratios)\n",
    "    total_hspace = np.sum(hspace)\n",
    "    hborder_space = np.sum(yborder)\n",
    "    \n",
    "    # get figwidth and figheight in inches\n",
    "    figwidth = total_widths + total_wspace + wborder_space\n",
    "    figheight = total_heights + total_hspace + hborder_space \n",
    "\n",
    "    fig = plt.figure(figsize=(figwidth, figheight), dpi = dpi)\n",
    "    \n",
    "    print(figwidth, figheight)\n",
    "    \n",
    "    axes = np.empty((nrows, ncols), dtype = object)\n",
    "    for i in range(nrows):\n",
    "        for j in range(ncols):\n",
    "            # a label makes each axis unique - otherwise mpl will\n",
    "            # return a previously made axis\n",
    "            \n",
    "            ax = fig.add_subplot(label = str((i, j)))\n",
    "            \n",
    "            \n",
    "            height = height_ratios[i]\n",
    "            width = width_ratios[j]\n",
    "            \n",
    "            total_hspace = np.sum(hspace[:i])\n",
    "            total_heights = np.sum(height_ratios[:i+1])\n",
    "            total_widths = np.sum(width_ratios[:j])\n",
    "            total_wspace = np.sum(wspace[:j])\n",
    "            \n",
    "            bot = figheight - yborder[0] - total_hspace - total_heights\n",
    "            left = xborder[0] + total_widths + total_wspace\n",
    "            \n",
    "                \n",
    "#             if j == 0:\n",
    "#                 left = xborder[0]\n",
    "#             else:\n",
    "#                 left += width_ratios[j-1] + wspace[j-1]\n",
    "            axdim = [left, bot, \n",
    "                     width, height]\n",
    "            print(axdim)\n",
    "            ax.set_position([left / figwidth, bot / figheight, width / figwidth, height / figheight])\n",
    "            axes[i, j] = ax\n",
    "            pos = ax.get_position()\n",
    "            print(pos.x0, pos.y0, pos.width, pos.height)\n",
    "                \n",
    "    return fig"
   ]
  },
  {
   "cell_type": "code",
   "execution_count": 109,
   "id": "ae7b00f3",
   "metadata": {},
   "outputs": [
    {
     "name": "stdout",
     "output_type": "stream",
     "text": [
      "1.5 1.0\n",
      "[0.0, 0.5, 0.5, 0.5]\n",
      "0.0 0.5 0.3333333333333333 0.5\n",
      "[0.5, 0.5, 0.5, 0.5]\n",
      "0.3333333333333333 0.5 0.3333333333333333 0.5\n",
      "[1.0, 0.5, 0.5, 0.5]\n",
      "0.6666666666666666 0.5 0.33333333333333337 0.5\n",
      "[0.0, 0.0, 0.5, 0.5]\n",
      "0.0 0.0 0.3333333333333333 0.5\n",
      "[0.5, 0.0, 0.5, 0.5]\n",
      "0.3333333333333333 0.0 0.3333333333333333 0.5\n",
      "[1.0, 0.0, 0.5, 0.5]\n",
      "0.6666666666666666 0.0 0.33333333333333337 0.5\n"
     ]
    },
    {
     "data": {
      "image/png": "[encoded data removed]",
      "text/plain": [
       "<Figure size 150x100 with 6 Axes>"
      ]
     },
     "metadata": {
      "needs_background": "light"
     },
     "output_type": "display_data"
    }
   ],
   "source": [
    "fig = _makeFig(2, 3, 0.5, 0, 0, 0.0, 0.0)\n"
   ]
  },
  {
   "cell_type": "code",
   "execution_count": 71,
   "id": "73bcc35f",
   "metadata": {},
   "outputs": [],
   "source": [
    "fig.savefig('example')"
   ]
  },
  {
   "cell_type": "code",
   "execution_count": null,
   "id": "16e1f6d2",
   "metadata": {},
   "outputs": [],
   "source": []
  }
 ],
 "metadata": {
  "kernelspec": {
   "display_name": "Python 3 (ipykernel)",
   "language": "python",
   "name": "python3"
  },
  "language_info": {
   "codemirror_mode": {
    "name": "ipython",
    "version": 3
   },
   "file_extension": ".py",
   "mimetype": "text/x-python",
   "name": "python",
   "nbconvert_exporter": "python",
   "pygments_lexer": "ipython3",
   "version": "3.8.5"
  }
 },
 "nbformat": 4,
 "nbformat_minor": 5
}
